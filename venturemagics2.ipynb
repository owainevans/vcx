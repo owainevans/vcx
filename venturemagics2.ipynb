{
 "metadata": {
  "name": ""
 },
 "nbformat": 3,
 "nbformat_minor": 0,
 "worksheets": [
  {
   "cells": [
    {
     "cell_type": "heading",
     "level": 1,
     "metadata": {},
     "source": [
      "Venture IPython Magics"
     ]
    },
    {
     "cell_type": "markdown",
     "metadata": {},
     "source": [
      "--------------------\n",
      "\n",
      "VentureMagics creates a RIPL on IPython startup called <code>ipy_ripl</code>. You can use the RIPL via Python syntax:"
     ]
    },
    {
     "cell_type": "code",
     "collapsed": false,
     "input": [
      "ipy_ripl.assume('coin','(beta 1 1)')"
     ],
     "language": "python",
     "metadata": {},
     "outputs": [
      {
       "metadata": {},
       "output_type": "pyout",
       "prompt_number": 6,
       "text": [
        "0.6864465991909489"
       ]
      }
     ],
     "prompt_number": 6
    },
    {
     "cell_type": "markdown",
     "metadata": {},
     "source": [
      "You can also use the RIPL via the <code>%vl</code> line magic, which can be mixed with Python code within a notebook cell: "
     ]
    },
    {
     "cell_type": "code",
     "collapsed": false,
     "input": [
      "# clear the Venture RIPL\n",
      "%v [clear]\n",
      "# enter the Tricky Coin model\n",
      "%v [assume coin (beta 1 1) ]"
     ],
     "language": "python",
     "metadata": {},
     "outputs": [
      {
       "output_type": "stream",
       "stream": "stdout",
       "text": [
        "[directive_id: 1].  assume coin   =  0.758021971465 \n"
       ]
      },
      {
       "metadata": {},
       "output_type": "pyout",
       "prompt_number": 1,
       "text": [
        "{'directive_id': 1, 'value': {'type': 'number', 'value': 0.758021971464736}}"
       ]
      }
     ],
     "prompt_number": 1
    },
    {
     "cell_type": "markdown",
     "metadata": {},
     "source": [
      "The cell magic <code>%%v</code> has to have its own Notebook cell (with no Python mixed in). It takes multi-line input."
     ]
    },
    {
     "cell_type": "code",
     "collapsed": false,
     "input": [
      "%%v\n",
      "[assume is_tricky (flip .1) ]\n",
      "[assume draw_x (lambda () (if is_tricky (flip coin) (flip)  ) ) ]\n",
      "[assume x1 (draw_x) ] \n",
      "[assume x2 (draw_x) ] "
     ],
     "language": "python",
     "metadata": {},
     "outputs": [
      {
       "output_type": "stream",
       "stream": "stdout",
       "text": [
        "[directive_id: 2].  assume is_tricky   =  False \n",
        "[directive_id: 3].  assume draw_x   =  sp \n",
        "[directive_id: 4].  assume x1   =  True \n",
        "[directive_id: 5].  assume x2   =  False \n"
       ]
      },
      {
       "metadata": {},
       "output_type": "pyout",
       "prompt_number": 2,
       "text": [
        "[{'directive_id': 2, 'value': {'type': 'boolean', 'value': False}},\n",
        " {'directive_id': 3, 'value': {'type': 'sp', 'value': 'sp'}},\n",
        " {'directive_id': 4, 'value': {'type': 'boolean', 'value': True}},\n",
        " {'directive_id': 5, 'value': {'type': 'boolean', 'value': False}}]"
       ]
      }
     ],
     "prompt_number": 2
    },
    {
     "cell_type": "markdown",
     "metadata": {},
     "source": [
      "The line magic supports capturing Venture outputs and expanding Python code into Venture. "
     ]
    },
    {
     "cell_type": "code",
     "collapsed": false,
     "input": [
      "# Pull Venture variables\n",
      "out = %v [assume coin_weight (beta 1 1) ]\n",
      "print 'coin_weight is: ', out['value']['value']"
     ],
     "language": "python",
     "metadata": {},
     "outputs": [
      {
       "output_type": "stream",
       "stream": "stdout",
       "text": [
        "[directive_id: 6].  assume coin_weight   =  0.594173523788 \n",
        "coin_weight is:  0.594173523788\n"
       ]
      }
     ],
     "prompt_number": 3
    },
    {
     "cell_type": "code",
     "collapsed": false,
     "input": [
      "# Expand Python code into Venture syntax\n",
      "\n",
      "randint = np.random.randint\n",
      "normal_draw = %v [predict (normal {randint(10**2)} .5) ]\n",
      "print 'normal_draw: ', normal_draw['value']['value']\n",
      "\n",
      "\n",
      "# convert lists from Python to Venture\n",
      "\n",
      "args_convert = lambda lst: str(lst)[1:-1].replace(',','')\n",
      "%v [predict (list {args_convert(range(3))} ) ]\n",
      "None"
     ],
     "language": "python",
     "metadata": {},
     "outputs": [
      {
       "output_type": "stream",
       "stream": "stdout",
       "text": [
        "[directive_id: 12].  predict (normal ... )   =  32.0592716161 \n",
        "normal_draw:  32.0592716161\n",
        "[directive_id: 13].  predict (list ... )   =  [0.0, 1.0, 2.0] "
       ]
      },
      {
       "output_type": "stream",
       "stream": "stdout",
       "text": [
        "\n"
       ]
      }
     ],
     "prompt_number": 7
    },
    {
     "cell_type": "code",
     "collapsed": false,
     "input": [
      "# We can expand loop variables into %v lines.\n",
      "beta = np.random.beta\n",
      "l=randint(100)\n",
      "\n",
      "for name in ['coin_'+str(i) for i in range(l,l+4) ]:\n",
      "    # create a coin variable and flip it\n",
      "    %v [assume {name} {beta(1,1)} ]\n",
      "    %v [assume  x{randint(1000)}  (flip {name})  ]\n",
      "\n",
      "# It doesn't work to capture these variables (because of indentation)"
     ],
     "language": "python",
     "metadata": {},
     "outputs": [
      {
       "output_type": "stream",
       "stream": "stdout",
       "text": [
        "[directive_id: 14].  assume coin_71   =  0.59928435096 \n",
        "[directive_id: 15].  assume x201   =  False "
       ]
      },
      {
       "output_type": "stream",
       "stream": "stdout",
       "text": [
        "\n",
        "[directive_id: 16].  assume coin_72   =  0.0485940012502 "
       ]
      },
      {
       "output_type": "stream",
       "stream": "stdout",
       "text": [
        "\n",
        "[directive_id: 17].  assume x115   =  False "
       ]
      },
      {
       "output_type": "stream",
       "stream": "stdout",
       "text": [
        "\n",
        "[directive_id: 18].  assume coin_73   =  0.54556497092 "
       ]
      },
      {
       "output_type": "stream",
       "stream": "stdout",
       "text": [
        "\n",
        "[directive_id: 19].  assume x923   =  False "
       ]
      },
      {
       "output_type": "stream",
       "stream": "stdout",
       "text": [
        "\n",
        "[directive_id: 20].  assume coin_74   =  0.0793619294975 "
       ]
      },
      {
       "output_type": "stream",
       "stream": "stdout",
       "text": [
        "\n",
        "[directive_id: 21].  assume x841   =  False "
       ]
      },
      {
       "output_type": "stream",
       "stream": "stdout",
       "text": [
        "\n"
       ]
      }
     ],
     "prompt_number": 8
    },
    {
     "cell_type": "code",
     "collapsed": false,
     "input": [
      "%%v\n",
      "[assume repeat (lambda (f n) (if (= n 0) (list) \n",
      "                              (list (f) (repeat f (- n 1) ) )\n",
      "                 ) ) ]"
     ],
     "language": "python",
     "metadata": {},
     "outputs": [
      {
       "output_type": "stream",
       "stream": "stdout",
       "text": [
        "[directive_id: 26].  assume repeat   =  sp \n"
       ]
      },
      {
       "metadata": {},
       "output_type": "pyout",
       "prompt_number": 13,
       "text": [
        "[{'directive_id': 26, 'value': {'type': 'sp', 'value': 'sp'}}]"
       ]
      }
     ],
     "prompt_number": 13
    },
    {
     "cell_type": "code",
     "collapsed": false,
     "input": [
      "ls = %v [assume ls (repeat flip 3) ]"
     ],
     "language": "python",
     "metadata": {},
     "outputs": [
      {
       "output_type": "stream",
       "stream": "stdout",
       "text": [
        "[directive_id: 30].  assume ls   =  [True, [True, [False, []]]] \n"
       ]
      }
     ],
     "prompt_number": 17
    },
    {
     "cell_type": "code",
     "collapsed": false,
     "input": [],
     "language": "python",
     "metadata": {},
     "outputs": [],
     "prompt_number": 13
    }
   ],
   "metadata": {}
  }
 ]
}