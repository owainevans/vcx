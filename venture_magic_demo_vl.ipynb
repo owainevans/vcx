{
 "metadata": {
  "name": "venture_magic_demo_vl"
 },
 "nbformat": 3,
 "nbformat_minor": 0,
 "worksheets": [
  {
   "cells": [
    {
     "cell_type": "heading",
     "level": 1,
     "metadata": {},
     "source": "Venture Magics"
    },
    {
     "cell_type": "markdown",
     "metadata": {},
     "source": "VentureMagics creates a RIPL on IPython startup called <code>ipy_ripl</code>. You can use the RIPL via Python syntax:"
    },
    {
     "cell_type": "code",
     "collapsed": false,
     "input": "ipy_ripl.assume('coin','(beta 1 1)')",
     "language": "python",
     "metadata": {},
     "outputs": [
      {
       "metadata": {},
       "output_type": "pyout",
       "prompt_number": 6,
       "text": "0.6864465991909489"
      }
     ],
     "prompt_number": 6
    },
    {
     "cell_type": "markdown",
     "metadata": {},
     "source": "You can also use the RIPL via the <code>%vl</code> line magic, which can be mixed with Python code within a notebook cell: "
    },
    {
     "cell_type": "code",
     "collapsed": false,
     "input": "# clear the Venture RIPL\n%vl [clear]\n# enter the Tricky Coin model\n%vl [assume coin (beta 1 1) ]",
     "language": "python",
     "metadata": {},
     "outputs": [
      {
       "output_type": "stream",
       "stream": "stdout",
       "text": "[CLEAR ]\n[ASSUME coin (beta 1 1)]\n0.788205520915\n"
      },
      {
       "metadata": {},
       "output_type": "pyout",
       "prompt_number": 7,
       "text": "{'directive_id': 1, 'value': {'type': 'number', 'value': 0.7882055209149341}}"
      }
     ],
     "prompt_number": 7
    },
    {
     "cell_type": "markdown",
     "metadata": {},
     "source": "The cell magic <code>%%vl</code> has to have its own Notebook cell (with no Python mixed in). It takes multi-line input."
    },
    {
     "cell_type": "code",
     "collapsed": false,
     "input": "%%vl\n[assume is_tricky (flip .1) ]\n[assume draw_x (lambda ()\n                     (if is_tricky\n                      (flip coin) (flip)\n                      ) ) ]\n[assume x1 (draw_x) ] \n[assume x2 (draw_x) ] ",
     "language": "python",
     "metadata": {},
     "outputs": [
      {
       "output_type": "stream",
       "stream": "stdout",
       "text": "[ASSUME is_tricky (flip .1)]\nTrue\n[ASSUME draw_x (lambda () (if is_tricky (flip coin) (flip) ) )]\nsp\n[ASSUME x1 (draw_x)]\nFalse\n[ASSUME x2 (draw_x)]\nTrue\n"
      },
      {
       "metadata": {},
       "output_type": "pyout",
       "prompt_number": 8,
       "text": "[{'directive_id': 2, 'value': {'type': 'boolean', 'value': True}},\n {'directive_id': 3, 'value': {'type': 'sp', 'value': 'sp'}},\n {'directive_id': 4, 'value': {'type': 'boolean', 'value': False}},\n {'directive_id': 5, 'value': {'type': 'boolean', 'value': True}}]"
      }
     ],
     "prompt_number": 8
    },
    {
     "cell_type": "markdown",
     "metadata": {},
     "source": "The line magic supports capturing Venture outputs and expanding Python code into Venture. "
    },
    {
     "cell_type": "code",
     "collapsed": false,
     "input": "# Pull Venture variables\nout = %vl [assume coin_weight (beta 1 1) ]\nprint 'coin_weight is: ', out['value']['value']",
     "language": "python",
     "metadata": {},
     "outputs": [
      {
       "output_type": "stream",
       "stream": "stdout",
       "text": "[ASSUME coin_weight (beta 1 1)]\n0.362325376192\ncoin_weight is:  0.362325376192\n"
      }
     ],
     "prompt_number": 9
    },
    {
     "cell_type": "code",
     "collapsed": false,
     "input": "# Expand Python code into Venture syntax\n\nrandint = np.random.randint\nnormal_draw = %vl [predict (normal {randint(10**2)} .5) ]\nprint 'normal_draw: ', normal_draw['value']['value']\n\n\n# convert lists from Python to Venture\n\nargs_convert = lambda lst: str(lst)[1:-1].replace(',','')\n%vl [predict (list {args_convert(range(3))} ) ]",
     "language": "python",
     "metadata": {},
     "outputs": [
      {
       "output_type": "stream",
       "stream": "stdout",
       "text": "[PREDICT (normal 17 .5)]\n16.7207709578\nnormal_draw:  16.7207709578\n[PREDICT (list 0 1 2 )]\n[{'type': 'number', 'value': 0.0}, {'type': 'number', 'value': 1.0}, {'type': 'number', 'value': 2.0}]\n"
      },
      {
       "metadata": {},
       "output_type": "pyout",
       "prompt_number": 10,
       "text": "{'directive_id': 8,\n 'value': {'type': 'list',\n  'value': [{'type': 'number', 'value': 0.0},\n   {'type': 'number', 'value': 1.0},\n   {'type': 'number', 'value': 2.0}]}}"
      }
     ],
     "prompt_number": 10
    },
    {
     "cell_type": "code",
     "collapsed": false,
     "input": "# We can expand loop variables into %vl lines.\nbeta = np.random.beta\nl=randint(100)\n\nfor name in ['coin_'+str(i) for i in range(l,l+4) ]:\n    # create a coin variable and flip it\n    %vl [assume {name} {beta(1,1)} ]\n    %vl [assume  x{randint(1000)}  (flip {name})  ]\n\n# It doesn't work to capture these variables (because of indentation)",
     "language": "python",
     "metadata": {},
     "outputs": [
      {
       "output_type": "stream",
       "stream": "stdout",
       "text": "[ASSUME coin_2 0.640144226422]\n0.640144226422\n[ASSUME x69 (flip coin_2)]\nTrue\n[ASSUME coin_3 0.777865848502]\n0.777865848502\n[ASSUME x28 (flip coin_3)]\nTrue\n[ASSUME coin_4 0.608131788877]\n0.608131788877\n[ASSUME x210 (flip coin_4)]\nTrue\n[ASSUME coin_5 0.674193755821]\n0.674193755821\n[ASSUME x142 (flip coin_5)]"
      },
      {
       "output_type": "stream",
       "stream": "stdout",
       "text": "\nTrue\n"
      }
     ],
     "prompt_number": 11
    },
    {
     "cell_type": "code",
     "collapsed": false,
     "input": "%%vl\n[assume repeat (lambda (f n) \n                (if (= n 0) (list)\n                 (list (f) (repeat f (- n 1) ) )\n                 ) ) ]",
     "language": "python",
     "metadata": {},
     "outputs": [
      {
       "output_type": "stream",
       "stream": "stdout",
       "text": "[ASSUME repeat (lambda (f n) (if (= n 0) (list) (list (f) (repeat f (- n 1) ) ) ) )]\nsp\n"
      },
      {
       "metadata": {},
       "output_type": "pyout",
       "prompt_number": 12,
       "text": "[{'directive_id': 17, 'value': {'type': 'sp', 'value': 'sp'}}]"
      }
     ],
     "prompt_number": 12
    },
    {
     "cell_type": "code",
     "collapsed": false,
     "input": "%vl [assume x (repeat flip 3) ]",
     "language": "python",
     "metadata": {},
     "outputs": [
      {
       "output_type": "stream",
       "stream": "stdout",
       "text": "[ASSUME x (repeat flip 3)]\n[{'type': 'boolean', 'value': False}, {'type': 'list', 'value': [{'type': 'boolean', 'value': True}, {'type': 'list', 'value': [{'type': 'boolean', 'value': False}, {'type': 'list', 'value': []}]}]}]\n"
      },
      {
       "metadata": {},
       "output_type": "pyout",
       "prompt_number": 13,
       "text": "{'directive_id': 18,\n 'value': {'type': 'list',\n  'value': [{'type': 'boolean', 'value': False},\n   {'type': 'list',\n    'value': [{'type': 'boolean', 'value': True},\n     {'type': 'list',\n      'value': [{'type': 'boolean', 'value': False},\n       {'type': 'list', 'value': []}]}]}]}}"
      }
     ],
     "prompt_number": 13
    },
    {
     "cell_type": "code",
     "collapsed": false,
     "input": "",
     "language": "python",
     "metadata": {},
     "outputs": [],
     "prompt_number": 13
    }
   ],
   "metadata": {}
  }
 ]
}