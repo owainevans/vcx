{
 "metadata": {
  "name": "venture_magic_demo_vl"
 },
 "nbformat": 3,
 "nbformat_minor": 0,
 "worksheets": [
  {
   "cells": [
    {
     "cell_type": "heading",
     "level": 1,
     "metadata": {},
     "source": "Venture Magics"
    },
    {
     "cell_type": "markdown",
     "metadata": {},
     "source": "Line magic '%vp' takes single line inputs and can be mixed with Python."
    },
    {
     "cell_type": "code",
     "collapsed": false,
     "input": "# clear the Venture RIPL\n%vl [clear]\n# enter the Tricky Coin model\n%vl [assume is_tricky (flip) ]",
     "language": "python",
     "metadata": {},
     "outputs": [
      {
       "output_type": "stream",
       "stream": "stdout",
       "text": "{}\n{'directive_id': 1, 'value': {'type': 'boolean', 'value': False}}\n"
      },
      {
       "metadata": {},
       "output_type": "pyout",
       "prompt_number": 1,
       "text": "{'directive_id': 1, 'value': {'type': 'boolean', 'value': False}}"
      }
     ],
     "prompt_number": 1
    },
    {
     "cell_type": "markdown",
     "metadata": {},
     "source": "The cell magic '%%vp' has to have its own Notebook cell (no Python mixed in). It takes multi-line input."
    },
    {
     "cell_type": "code",
     "collapsed": false,
     "input": "%%vl\n[assume draw_x (mem (lambda (i)\n                     (if is_tricky\n                      (flip .9) (flip)\n                      ) ) ) ]\n[assume x1 (draw_x 1) ] \n[assume x2 (draw_x 2) ] ",
     "language": "python",
     "metadata": {},
     "outputs": [
      {
       "output_type": "stream",
       "stream": "stdout",
       "text": "[{'directive_id': 2, 'value': {'type': 'sp', 'value': 'sp'}}, {'directive_id': 3, 'value': {'type': 'boolean', 'value': False}}, {'directive_id': 4, 'value': {'type': 'boolean', 'value': True}}]\n"
      },
      {
       "metadata": {},
       "output_type": "pyout",
       "prompt_number": 2,
       "text": "[{'directive_id': 2, 'value': {'type': 'sp', 'value': 'sp'}},\n {'directive_id': 3, 'value': {'type': 'boolean', 'value': False}},\n {'directive_id': 4, 'value': {'type': 'boolean', 'value': True}}]"
      }
     ],
     "prompt_number": 2
    },
    {
     "cell_type": "markdown",
     "metadata": {},
     "source": "The line magic supports capturing Venture outputs and expanding Python code into Venture. "
    },
    {
     "cell_type": "code",
     "collapsed": false,
     "input": "# Pull Venture variables\nout = %vl [assume coin_weight (beta 1 1) ]\nprint 'coin_weight is: ', out['value']['value']",
     "language": "python",
     "metadata": {},
     "outputs": [
      {
       "output_type": "stream",
       "stream": "stdout",
       "text": "{'directive_id': 6, 'value': {'type': 'number', 'value': 0.6593998240815748}}\ncoin_weight is:  0.659399824082\n"
      }
     ],
     "prompt_number": 4
    },
    {
     "cell_type": "code",
     "collapsed": false,
     "input": "# Expand Python code into Venture syntax\n\nrandint = np.random.randint\nnormal_draw = %vl [predict (normal {randint(10**2)} .5) ]\nprint 'normal_draw: ', normal_draw['value']['value']\n\n\n# convert lists from Python to Venture\n\nargs_convert = lambda lst: str(lst)[1:-1].replace(',','')\n%vl [predict (list {args_convert(range(3))} ) ]",
     "language": "python",
     "metadata": {},
     "outputs": [
      {
       "output_type": "stream",
       "stream": "stdout",
       "text": "{'directive_id': 9, 'value': {'type': 'number', 'value': 54.57502509580684}}\nnormal_draw:  54.5750250958\n{'directive_id': 10, 'value': {'type': 'list', 'value': [{'type': 'number', 'value': 0.0}, {'type': 'number', 'value': 1.0}, {'type': 'number', 'value': 2.0}]}}\n"
      },
      {
       "metadata": {},
       "output_type": "pyout",
       "prompt_number": 6,
       "text": "{'directive_id': 10,\n 'value': {'type': 'list',\n  'value': [{'type': 'number', 'value': 0.0},\n   {'type': 'number', 'value': 1.0},\n   {'type': 'number', 'value': 2.0}]}}"
      }
     ],
     "prompt_number": 6
    },
    {
     "cell_type": "code",
     "collapsed": false,
     "input": "# We can expand loop variables into Venture lines.\nbeta = np.random.beta\nl=randint(100)\n\nfor name in ['coin_'+str(i) for i in range(l,l+4) ]:\n    # create a coin variable and flip it\n    %vl [assume {name} {beta(1,1)} ]\n    %vl [assume  x{randint(1000)}  (flip {name})  ]\n\n# It doesn't work to capture these variables (because of indentation)",
     "language": "python",
     "metadata": {},
     "outputs": [
      {
       "output_type": "stream",
       "stream": "stdout",
       "text": "{'directive_id': 11, 'value': {'type': 'number', 'value': 0.0716441339092}}\n{'directive_id': 12, 'value': {'type': 'boolean', 'value': False}}\n{'directive_id': 13, 'value': {'type': 'number', 'value': 0.286986943039}}\n{'directive_id': 14, 'value': {'type': 'boolean', 'value': True}}\n{'directive_id': 15, 'value': {'type': 'number', 'value': 0.328081401008}}\n{'directive_id': 16, 'value': {'type': 'boolean', 'value': False}}\n{'directive_id': 17, 'value': {'type': 'number', 'value': 0.421204236593}}\n{'directive_id': 18, 'value': {'type': 'boolean', 'value': False}}"
      },
      {
       "output_type": "stream",
       "stream": "stdout",
       "text": "\n"
      }
     ],
     "prompt_number": 8
    },
    {
     "cell_type": "code",
     "collapsed": false,
     "input": "",
     "language": "python",
     "metadata": {},
     "outputs": []
    }
   ],
   "metadata": {}
  }
 ]
}