{
 "metadata": {
  "name": "venture_magic_demo_vl"
 },
 "nbformat": 3,
 "nbformat_minor": 0,
 "worksheets": [
  {
   "cells": [
    {
     "cell_type": "heading",
     "level": 1,
     "metadata": {},
     "source": "Venture Magics"
    },
    {
     "cell_type": "markdown",
     "metadata": {},
     "source": "Line magic '%vp' takes single line inputs and can be mixed with Python."
    },
    {
     "cell_type": "code",
     "collapsed": false,
     "input": "# clear the Venture RIPL\n%vl [clear]\n# enter the Tricky Coin model\n%vl [assume is_tricky (flip) ]",
     "language": "python",
     "metadata": {},
     "outputs": [
      {
       "output_type": "stream",
       "stream": "stdout",
       "text": "None\n(1, False)\n"
      },
      {
       "metadata": {},
       "output_type": "pyout",
       "prompt_number": 30,
       "text": "(\"vxx.assume('is_tricky','(flip)')\", (1, False))"
      }
     ],
     "prompt_number": 30
    },
    {
     "cell_type": "markdown",
     "metadata": {},
     "source": "The cell magic '%%vp' has to have its own Notebook cell (no Python mixed in). It takes multi-line input."
    },
    {
     "cell_type": "code",
     "collapsed": false,
     "input": "%%vl\n[assume draw_x (mem (lambda (i)\n                     (if is_tricky\n                      (flip .9) (flip)\n                      ) ) ) ]\n[assume x1 (draw_x 1) ] \n[assume x2 (draw_x 2) ] ",
     "language": "python",
     "metadata": {},
     "outputs": [
      {
       "metadata": {},
       "output_type": "pyout",
       "prompt_number": 31,
       "text": "([\"vxx.assume('draw_x','(mem (lambda (i) (if is_tricky (flip .9) (flip) ) ) )')\",\n  \"vxx.assume('x1','(draw_x 1)')\",\n  \"vxx.assume('x2','(draw_x 2)')\"],\n [(2, 'XRP_REFERENCE'), (3, True), (4, True)])"
      }
     ],
     "prompt_number": 31
    },
    {
     "cell_type": "markdown",
     "metadata": {},
     "source": "The line magic supports capturing Venture outputs and expanding Python code into Venture. "
    },
    {
     "cell_type": "code",
     "collapsed": false,
     "input": "# Pull Venture variables\ndirective, coin_weight = %vl [assume coin_weight (beta 1 1) ]\nprint 'coin_weight is: ', coin_weight[1]",
     "language": "python",
     "metadata": {},
     "outputs": [
      {
       "output_type": "stream",
       "stream": "stdout",
       "text": "(5, 0.3553034370172537)\ncoin_weight is:  0.355303437017\n"
      }
     ],
     "prompt_number": 32
    },
    {
     "cell_type": "code",
     "collapsed": false,
     "input": "# Expand Python code into Venture syntax\n\nrandint = np.random.randint\nnormal_draw = %vl [predict (normal {randint(10**2)} .5) ]\nprint 'normal_draw: ', normal_draw[1][1]\n\n\n# convert lists from Python to Venture\n\nargs_convert = lambda lst: str(lst)[1:-1].replace(',','')\n%vl [predict (list {args_convert(range(5))} ) ]",
     "language": "python",
     "metadata": {},
     "outputs": [
      {
       "output_type": "stream",
       "stream": "stdout",
       "text": "(6, 94.39043914954976)\nnormal_draw:  94.3904391495\n(7, [0, 1, 2, 3, 4])\n"
      },
      {
       "metadata": {},
       "output_type": "pyout",
       "prompt_number": 33,
       "text": "(\"vxx.predict('(list 0 1 2 3 4 )')\", (7, [0, 1, 2, 3, 4]))"
      }
     ],
     "prompt_number": 33
    },
    {
     "cell_type": "code",
     "collapsed": false,
     "input": "# We can expand loop variables into Venture lines.\n\nbeta = np.random.beta\n\nfor name in [str(randint(1000))+'coin_'+str(i) for i in range(4) ]:\n    # create a coin variable and flip it\n    %vl [assume {name} {beta(1,1)} ]\n    %vl [assume  x{randint(1000)}  (flip {name})  ]\n\n# It doesn't work to capture these variables (because of indentation)",
     "language": "python",
     "metadata": {},
     "outputs": [
      {
       "output_type": "stream",
       "stream": "stdout",
       "text": "(8, 0.147082662724)\n(9, False)\n(10, 0.701626604601)\n(11, True)\n(12, 0.676243203522)\n(13, False)\n(14, 0.491839672668)\n(15, False)\n"
      }
     ],
     "prompt_number": 34
    },
    {
     "cell_type": "code",
     "collapsed": false,
     "input": "",
     "language": "python",
     "metadata": {},
     "outputs": []
    }
   ],
   "metadata": {}
  }
 ]
}